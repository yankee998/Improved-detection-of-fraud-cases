{
 "cells": [
  {
   "cell_type": "code",
   "execution_count": 9,
   "id": "3f6696f7-7bef-4945-ab1a-e22c55872e27",
   "metadata": {},
   "outputs": [],
   "source": [
    "import pandas as pd\n",
    "import matplotlib.pyplot as plt\n",
    "import seaborn as sns"
   ]
  },
  {
   "cell_type": "code",
   "execution_count": 10,
   "id": "823aa12a-2dfc-4947-816c-c0090369f8d3",
   "metadata": {},
   "outputs": [],
   "source": [
    "fraud_data = pd.read_csv('C:\\\\Users\\\\Skyline\\\\Improved detection of fraud cases\\\\data\\\\processed\\\\Fraud_Data_cleaned.csv')\n",
    "creditcard_data = pd.read_csv('C:\\\\Users\\\\Skyline\\\\Improved detection of fraud cases\\\\data\\\\processed\\\\creditcard_cleaned.csv')"
   ]
  },
  {
   "cell_type": "code",
   "execution_count": 11,
   "id": "e263aabe-33e8-42a8-9026-4f6819ef8033",
   "metadata": {},
   "outputs": [],
   "source": [
    "plt.figure(figsize=(10, 6))\n",
    "sns.histplot(fraud_data['purchase_value'], bins=50)\n",
    "plt.title('Distribution of Purchase Value (Fraud_Data)')\n",
    "plt.savefig('C:\\\\Users\\\\Skyline\\\\Improved detection of fraud cases\\\\data\\\\processed\\\\purchase_value_dist.png')\n",
    "plt.close()"
   ]
  },
  {
   "cell_type": "code",
   "execution_count": 12,
   "id": "22705868-4c04-4fa7-814c-22d465565946",
   "metadata": {},
   "outputs": [],
   "source": [
    "plt.figure(figsize=(10, 6))\n",
    "sns.histplot(creditcard_data['Amount'], bins=50)\n",
    "plt.title('Distribution of Transaction Amount (creditcard)')\n",
    "plt.savefig('C:\\\\Users\\\\Skyline\\\\Improved detection of fraud cases\\\\data\\\\processed\\\\amount_dist.png')\n",
    "plt.close()"
   ]
  },
  {
   "cell_type": "code",
   "execution_count": 13,
   "id": "4c566621-83b3-489c-85c1-9a180cf8fc38",
   "metadata": {},
   "outputs": [],
   "source": [
    "plt.figure(figsize=(10, 6))\n",
    "sns.boxplot(x='class', y='purchase_value', data=fraud_data)\n",
    "plt.title('Purchase Value by Class (Fraud_Data)')\n",
    "plt.savefig('C:\\\\Users\\\\Skyline\\\\Improved detection of fraud cases\\\\data\\\\processed\\\\purchase_value_by_class.png')\n",
    "plt.close()"
   ]
  },
  {
   "cell_type": "code",
   "execution_count": 17,
   "id": "909fd842-cf80-4c10-94c0-b7719e96c1d9",
   "metadata": {},
   "outputs": [],
   "source": [
    "plt.figure(figsize=(10, 6))\n",
    "sns.boxplot(x='Class', y='Amount', data=creditcard_data)\n",
    "plt.title('Amount by Class (creditcard)')\n",
    "plt.savefig('C:\\\\Users\\\\Skyline\\\\Improved detection of fraud cases\\\\data\\\\processed\\\\amount_by_class.png')\n",
    "plt.close()"
   ]
  },
  {
   "cell_type": "code",
   "execution_count": 16,
   "id": "2ecbb9ab-e6bc-4269-9ad9-6a613d420cde",
   "metadata": {},
   "outputs": [
    {
     "name": "stdout",
     "output_type": "stream",
     "text": [
      "Fraud_Data Class Distribution:\n",
      " class\n",
      "0    0.906354\n",
      "1    0.093646\n",
      "Name: proportion, dtype: float64\n",
      "creditcard Class Distribution:\n",
      " Class\n",
      "0    0.998333\n",
      "1    0.001667\n",
      "Name: proportion, dtype: float64\n"
     ]
    }
   ],
   "source": [
    "print(\"Fraud_Data Class Distribution:\\n\", fraud_data['class'].value_counts(normalize=True))\n",
    "print(\"creditcard Class Distribution:\\n\", creditcard_data['Class'].value_counts(normalize=True))"
   ]
  },
  {
   "cell_type": "code",
   "execution_count": null,
   "id": "1f0b098a-9acf-41df-8a79-ba45d5bed299",
   "metadata": {},
   "outputs": [],
   "source": []
  }
 ],
 "metadata": {
  "kernelspec": {
   "display_name": "Python 3 (ipykernel)",
   "language": "python",
   "name": "python3"
  },
  "language_info": {
   "codemirror_mode": {
    "name": "ipython",
    "version": 3
   },
   "file_extension": ".py",
   "mimetype": "text/x-python",
   "name": "python",
   "nbconvert_exporter": "python",
   "pygments_lexer": "ipython3",
   "version": "3.11.9"
  }
 },
 "nbformat": 4,
 "nbformat_minor": 5
}
